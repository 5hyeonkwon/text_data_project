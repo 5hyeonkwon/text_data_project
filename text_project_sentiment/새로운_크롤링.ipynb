{
 "cells": [
  {
   "cell_type": "code",
   "execution_count": 1,
   "metadata": {},
   "outputs": [],
   "source": [
    "import requests\n",
    "import lxml.html\n",
    "from selenium.webdriver import Chrome\n",
    "import pandas as pd"
   ]
  },
  {
   "cell_type": "code",
   "execution_count": 2,
   "metadata": {},
   "outputs": [],
   "source": [
    "browser = Chrome()"
   ]
  },
  {
   "cell_type": "code",
   "execution_count": 3,
   "metadata": {},
   "outputs": [],
   "source": [
    "url = 'https://kr.hotels.com/search.do?resolved-location=COUNTRY%3A10233090%3AUNKNOWN%3AUNKNOWN&f-star-rating=5,4,3&destination-id=10233090&q-destination=%ED%95%9C%EA%B5%AD&q-check-in=2020-05-13&q-check-out=2020-05-14&q-rooms=1&q-room-0-adults=2&q-room-0-children=0&sort-order=STAR_RATING_HIGHEST_FIRST'"
   ]
  },
  {
   "cell_type": "code",
   "execution_count": 4,
   "metadata": {},
   "outputs": [
    {
     "data": {
      "text/plain": [
       "<Response [200]>"
      ]
     },
     "execution_count": 4,
     "metadata": {},
     "output_type": "execute_result"
    }
   ],
   "source": [
    "requests.get(url)"
   ]
  },
  {
   "cell_type": "code",
   "execution_count": 5,
   "metadata": {},
   "outputs": [],
   "source": [
    "browser.get(url)"
   ]
  },
  {
   "cell_type": "code",
   "execution_count": 6,
   "metadata": {},
   "outputs": [],
   "source": [
    "import time\n",
    "SCROLL_PAUSE_TIME = 5\n",
    "\n",
    "# Get scroll height\n",
    "last_height = browser.execute_script(\"return document.body.scrollHeight-1000\")         \n",
    "\n",
    "while True:\n",
    "    # Scroll down to bottom                                                      \n",
    "    browser.execute_script(\"window.scrollTo(0, document.body.scrollHeight-1000);\")\n",
    "\n",
    "    # Wait to load page\n",
    "    time.sleep(SCROLL_PAUSE_TIME)                                                \n",
    "    browser.execute_script(\"window.scrollTo(0, document.body.scrollHeight-1000);\")  \n",
    "    time.sleep(SCROLL_PAUSE_TIME)\n",
    "\n",
    "    # Calculate new scroll height and compare with last scroll height            \n",
    "    new_height = browser.execute_script(\"return document.body.scrollHeight\")\n",
    "\n",
    "    if new_height == last_height:                                               \n",
    "        break\n",
    "\n",
    "    last_height = new_height\n"
   ]
  },
  {
   "cell_type": "code",
   "execution_count": 7,
   "metadata": {},
   "outputs": [],
   "source": [
    "hotel_reviews = []"
   ]
  },
  {
   "cell_type": "code",
   "execution_count": 8,
   "metadata": {},
   "outputs": [],
   "source": [
    "hotels = browser.find_elements_by_css_selector('a.property-name-link')"
   ]
  },
  {
   "cell_type": "code",
   "execution_count": 75,
   "metadata": {
    "scrolled": false
   },
   "outputs": [
    {
     "name": "stderr",
     "output_type": "stream",
     "text": [
      "C:\\Users\\dhgus\\Anaconda3\\lib\\site-packages\\ipykernel_launcher.py:6: DeprecationWarning: use driver.switch_to.window instead\n",
      "  \n",
      "C:\\Users\\dhgus\\Anaconda3\\lib\\site-packages\\ipykernel_launcher.py:32: DeprecationWarning: use driver.switch_to.window instead\n",
      "C:\\Users\\dhgus\\Anaconda3\\lib\\site-packages\\ipykernel_launcher.py:15: DeprecationWarning: use driver.switch_to.window instead\n",
      "  from ipykernel import kernelapp as app\n"
     ]
    }
   ],
   "source": [
    "#호텔 사이트\n",
    "for i in range(len(hotels)) :\n",
    "    time.sleep(1)\n",
    "    hotels[i].click()\n",
    "    time.sleep(2)\n",
    "    browser.switch_to_window(browser.window_handles[1])   # 새로운 탭으로 이동 \n",
    "    time.sleep(1)\n",
    "    hotel_name = browser.find_element_by_tag_name('h1').text\n",
    "    time.sleep(2)\n",
    "    try :\n",
    "        browser.find_elements_by_css_selector('a.total-reviews')[0].click() # 리뷰 이동\n",
    "        time.sleep(1)\n",
    "    except : \n",
    "        browser.close()\n",
    "        browser.switch_to_window(browser.window_handles[0])\n",
    "        continue\n",
    "        \n",
    "        \n",
    "    while 1:\n",
    "        try :\n",
    "            reviews = browser.find_elements_by_css_selector('div.brand-reviews-listing>div.review-card>blockquote')\n",
    "            ratings = browser.find_elements_by_css_selector('div.brand-reviews-listing>div.review-card> div.card-header>span.rating >span.rating-score')\n",
    "            for j in range(len(reviews)) :\n",
    "                review = reviews[j].text\n",
    "                rating = ratings[j].text\n",
    "                hotel_reviews.append([hotel_name,review,rating])\n",
    "            browser.find_element_by_css_selector('div.pagination > div > a.cta.cta-secondary.cta-next').click()         # 다음페이지 \n",
    "            time.sleep(3)\n",
    "        except :\n",
    "            browser.close()\n",
    "            break\n",
    "    browser.switch_to_window(browser.window_handles[0])\n",
    "\n"
   ]
  },
  {
   "cell_type": "code",
   "execution_count": 76,
   "metadata": {},
   "outputs": [],
   "source": [
    "result = pd.DataFrame(hotel_reviews, columns = ['호텔이름','리뷰','평점'])"
   ]
  },
  {
   "cell_type": "code",
   "execution_count": 77,
   "metadata": {},
   "outputs": [],
   "source": [
    "result.to_excel('.xlsx', encoding = 'utf-8',index = False)"
   ]
  },
  {
   "cell_type": "code",
   "execution_count": null,
   "metadata": {},
   "outputs": [],
   "source": []
  }
 ],
 "metadata": {
  "kernelspec": {
   "display_name": "Python 3",
   "language": "python",
   "name": "python3"
  },
  "language_info": {
   "codemirror_mode": {
    "name": "ipython",
    "version": 3
   },
   "file_extension": ".py",
   "mimetype": "text/x-python",
   "name": "python",
   "nbconvert_exporter": "python",
   "pygments_lexer": "ipython3",
   "version": "3.7.6"
  }
 },
 "nbformat": 4,
 "nbformat_minor": 4
}
