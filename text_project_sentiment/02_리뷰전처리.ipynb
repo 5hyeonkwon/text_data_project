{
 "cells": [
  {
   "cell_type": "markdown",
   "metadata": {},
   "source": [
    "# 리뷰전처리 \n",
    "- 크롤링을 통해 수집한 리뷰들은 한국어, 일본어 , 중국어 , 영어등 다양한 언어로 이루어져 있다. 우리는 한국어를 이용하여 주제분석을 진행하기 때문에 한국어를 제외한 모든 단어들을 처리하기 위해 정규표현식을 사용했다."
   ]
  },
  {
   "cell_type": "code",
   "execution_count": 1,
   "metadata": {},
   "outputs": [],
   "source": [
    "import pandas as pd\n",
    "import numpy as np\n",
    "import re"
   ]
  },
  {
   "cell_type": "code",
   "execution_count": 2,
   "metadata": {},
   "outputs": [],
   "source": [
    "df = pd.read_excel('crawl.xlsx', encoding = 'utf-8')"
   ]
  },
  {
   "cell_type": "code",
   "execution_count": 4,
   "metadata": {},
   "outputs": [],
   "source": [
    "df['리뷰'] = df['리뷰'].replace(np.nan, '')"
   ]
  },
  {
   "cell_type": "code",
   "execution_count": 5,
   "metadata": {},
   "outputs": [
    {
     "data": {
      "text/plain": [
       "0        만족합니다 서비스 청결 등등 모두 좋았습니다 단지 아쉬운점은 레지던스 호텔이다보니 ...\n",
       "1        단점; 호텔자체의 위치는 별로였음. 용산역 주변 상업시설부족, 아이와 있기에 주변환...\n",
       "2        수영장이 매우 청결히 잘관리되고 있고 수영장안에계신 직원분의 세심한 배려가 느껴져서...\n",
       "3                                                         \n",
       "4        서비스에 만족합니다. 친절한 직원분들과 요청사항을 신속히 처리해주시는 모습에서 프로...\n",
       "                               ...                        \n",
       "73948    ベットが固すぎて寝れませんでした。コンセントの数も少なく鏡とコンセントの場所が離れているので...\n",
       "73949    駅・コンビニも近い点が良かったです。部屋の中に飲食物の持込不可なのでご注意ください。（共用ダ...\n",
       "73950                                        旅館的服務及環境是OK的。\n",
       "73951    駅からすぐでコンビニも近いが通りがディープなピンク街でした。笑 ゲストハウスの方は近すぎず遠...\n",
       "73952    立地もよく、wifi無料やセルフで替えるタオルも便利でした。地下での朝食は頂きませんでしたが...\n",
       "Name: 리뷰, Length: 73953, dtype: object"
      ]
     },
     "execution_count": 5,
     "metadata": {},
     "output_type": "execute_result"
    }
   ],
   "source": [
    "df['리뷰']"
   ]
  },
  {
   "cell_type": "code",
   "execution_count": 7,
   "metadata": {},
   "outputs": [],
   "source": [
    "def replace_hangul(x) :\n",
    "    if len(re.findall(r'[ㄱ-ㅎ|가-힣]',x)) > 0 :\n",
    "        x = re.sub(r'[^ㄱ-ㅎ|가-힣|0-9|\\s|,?^&%!]','',x)\n",
    "    else :\n",
    "        x = re.sub(r'[^ㄱ-ㅎ|가-힣]','',x)\n",
    "    return x"
   ]
  },
  {
   "cell_type": "code",
   "execution_count": 8,
   "metadata": {},
   "outputs": [],
   "source": [
    "df['리뷰'] = df['리뷰'].apply(replace_hangul)"
   ]
  },
  {
   "cell_type": "code",
   "execution_count": 9,
   "metadata": {},
   "outputs": [],
   "source": [
    "newdf = df[df['리뷰'] != '']"
   ]
  },
  {
   "cell_type": "code",
   "execution_count": 11,
   "metadata": {},
   "outputs": [],
   "source": [
    "newdf.to_excel('korean.xlsx', encoding = 'cp949', index = False)"
   ]
  }
 ],
 "metadata": {
  "kernelspec": {
   "display_name": "Python 3",
   "language": "python",
   "name": "python3"
  },
  "language_info": {
   "codemirror_mode": {
    "name": "ipython",
    "version": 3
   },
   "file_extension": ".py",
   "mimetype": "text/x-python",
   "name": "python",
   "nbconvert_exporter": "python",
   "pygments_lexer": "ipython3",
   "version": "3.7.6"
  }
 },
 "nbformat": 4,
 "nbformat_minor": 4
}
