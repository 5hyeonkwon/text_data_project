{
 "cells": [
  {
   "cell_type": "markdown",
   "metadata": {},
   "source": [
    "# 부정 리뷰를 이용하여 부정 키워드 추출\n",
    "- 긍정리뷰를 이용한 방식과 동일하게 부정리뷰에 대한 주제를 분석할것이다.\n",
    "- 이후 호텔(=문서)별로 많이 분포하는 주제를 지정해주고 그 주제에 맞는 키워드를 연결할 것이다."
   ]
  },
  {
   "cell_type": "code",
   "execution_count": 1,
   "metadata": {},
   "outputs": [],
   "source": [
    "import pandas as pd"
   ]
  },
  {
   "cell_type": "code",
   "execution_count": 2,
   "metadata": {},
   "outputs": [],
   "source": [
    "import numpy as np"
   ]
  },
  {
   "cell_type": "code",
   "execution_count": 3,
   "metadata": {},
   "outputs": [],
   "source": [
    "data=pd.read_excel('X_train.xlsx',encoding='cp949')"
   ]
  },
  {
   "cell_type": "code",
   "execution_count": 4,
   "metadata": {},
   "outputs": [],
   "source": [
    "test=pd.read_excel('X_test.xlsx',encoding='cp949')"
   ]
  },
  {
   "cell_type": "code",
   "execution_count": 5,
   "metadata": {},
   "outputs": [],
   "source": [
    "test=test.iloc[np.random.randint(0,test.shape[0], 1300), :]"
   ]
  },
  {
   "cell_type": "code",
   "execution_count": 6,
   "metadata": {},
   "outputs": [],
   "source": [
    "#test.to_excel('korea.xlsx', encoding = 'cp949')"
   ]
  },
  {
   "cell_type": "markdown",
   "metadata": {},
   "source": [
    "# 데이터셋 구축"
   ]
  },
  {
   "cell_type": "code",
   "execution_count": 7,
   "metadata": {},
   "outputs": [],
   "source": [
    "data=data.query(\"평점==0\")"
   ]
  },
  {
   "cell_type": "code",
   "execution_count": 8,
   "metadata": {},
   "outputs": [],
   "source": [
    "test=test.query(\"평점 == 0\")\n",
    "test=test.reset_index(drop=True)"
   ]
  },
  {
   "cell_type": "code",
   "execution_count": 9,
   "metadata": {},
   "outputs": [],
   "source": [
    "data=data.reset_index(drop=True)"
   ]
  },
  {
   "cell_type": "code",
   "execution_count": 10,
   "metadata": {},
   "outputs": [
    {
     "data": {
      "text/plain": [
       "283"
      ]
     },
     "execution_count": 10,
     "metadata": {},
     "output_type": "execute_result"
    }
   ],
   "source": [
    "data['호텔이름'].nunique()"
   ]
  },
  {
   "cell_type": "code",
   "execution_count": 11,
   "metadata": {},
   "outputs": [],
   "source": [
    "data_dict=dict()\n",
    "for i in range(len(data)):\n",
    "    if data['호텔이름'][i] not in data_dict.keys():\n",
    "        data_dict[data['호텔이름'][i]]=data['리뷰'][i]\n",
    "    else:\n",
    "        data_dict[data['호텔이름'][i]]=data_dict[data['호텔이름'][i]]+' '+ data['리뷰'][i]"
   ]
  },
  {
   "cell_type": "code",
   "execution_count": 12,
   "metadata": {},
   "outputs": [],
   "source": [
    "test_dict=dict()\n",
    "for i in range(len(test)):\n",
    "    if test['호텔이름'][i] not in test_dict.keys():\n",
    "        test_dict[test['호텔이름'][i]]=test['리뷰'][i]\n",
    "    else:\n",
    "        test_dict[test['호텔이름'][i]]=test_dict[test['호텔이름'][i]]+' '+ test['리뷰'][i]"
   ]
  },
  {
   "cell_type": "code",
   "execution_count": 13,
   "metadata": {},
   "outputs": [],
   "source": [
    "a=pd.DataFrame.from_dict([data_dict])\n",
    "final_data=pd.melt(a,var_name='호텔이름', value_name='리뷰')"
   ]
  },
  {
   "cell_type": "code",
   "execution_count": 14,
   "metadata": {},
   "outputs": [],
   "source": [
    "b=pd.DataFrame.from_dict([test_dict])\n",
    "final_test=pd.melt(b,var_name='호텔이름', value_name='리뷰')"
   ]
  },
  {
   "cell_type": "code",
   "execution_count": 15,
   "metadata": {},
   "outputs": [
    {
     "data": {
      "text/plain": [
       "283"
      ]
     },
     "execution_count": 15,
     "metadata": {},
     "output_type": "execute_result"
    }
   ],
   "source": [
    "len(final_data['호텔이름'].unique())"
   ]
  },
  {
   "cell_type": "code",
   "execution_count": 16,
   "metadata": {},
   "outputs": [
    {
     "data": {
      "text/html": [
       "<div>\n",
       "<style scoped>\n",
       "    .dataframe tbody tr th:only-of-type {\n",
       "        vertical-align: middle;\n",
       "    }\n",
       "\n",
       "    .dataframe tbody tr th {\n",
       "        vertical-align: top;\n",
       "    }\n",
       "\n",
       "    .dataframe thead th {\n",
       "        text-align: right;\n",
       "    }\n",
       "</style>\n",
       "<table border=\"1\" class=\"dataframe\">\n",
       "  <thead>\n",
       "    <tr style=\"text-align: right;\">\n",
       "      <th></th>\n",
       "      <th>호텔이름</th>\n",
       "      <th>리뷰</th>\n",
       "    </tr>\n",
       "  </thead>\n",
       "  <tbody>\n",
       "    <tr>\n",
       "      <th>0</th>\n",
       "      <td>신라스테이 해운대</td>\n",
       "      <td>아직 갈길이 멀다 카운터 첫인상 별로 뭔가 어수선함 서비스 받는 느낌은 포기해야함 ...</td>\n",
       "    </tr>\n",
       "    <tr>\n",
       "      <th>1</th>\n",
       "      <td>롯데시티호텔 제주</td>\n",
       "      <td>부모님을 모시고 간 제주도 여행에서 숙박시설은 중요한 부분이였습니다 다만, 일정을 ...</td>\n",
       "    </tr>\n",
       "    <tr>\n",
       "      <th>2</th>\n",
       "      <td>왕의지밀</td>\n",
       "      <td>먼지 냄새 가득한 한옥호텔 공사 먼지가 아직 남아 있는 텁텁한 공기가 인상적이었습니...</td>\n",
       "    </tr>\n",
       "    <tr>\n",
       "      <th>3</th>\n",
       "      <td>데이즈호텔 제주 서귀포</td>\n",
       "      <td>화장실에서 나는 담배 냄새와 알 수 없는 퀴퀴한 냄새가 계속 올라옴 카펫이 매우 더...</td>\n",
       "    </tr>\n",
       "    <tr>\n",
       "      <th>4</th>\n",
       "      <td>세인트존스 호텔</td>\n",
       "      <td>오션뷰 날씨가 너무 좋았고, 침대도 넓고 편했고, 조용했습니다 아침에 들려오는 파도...</td>\n",
       "    </tr>\n",
       "    <tr>\n",
       "      <th>...</th>\n",
       "      <td>...</td>\n",
       "      <td>...</td>\n",
       "    </tr>\n",
       "    <tr>\n",
       "      <th>112</th>\n",
       "      <td>르 메르디앙 서울</td>\n",
       "      <td>서비스가 너무 좋고, 럭셔리함이 물씬 묻어나는 호텔입니다 위치적으로도 앞에 편의점도...</td>\n",
       "    </tr>\n",
       "    <tr>\n",
       "      <th>113</th>\n",
       "      <td>오라카이 송도파크 호텔</td>\n",
       "      <td>깨끗해서 편하게 잘 쉬었어요 침대 메트리스가 너무 출렁거려서 불편했고, 방 바닥 카...</td>\n",
       "    </tr>\n",
       "    <tr>\n",
       "      <th>114</th>\n",
       "      <td>L7 홍대 바이 롯데</td>\n",
       "      <td>그냥 뭐 홍대에 생겼다길래 궁금해서 와봤는데 그냥 저냥 한 비즈니스 모텔 수준이고 ...</td>\n",
       "    </tr>\n",
       "    <tr>\n",
       "      <th>115</th>\n",
       "      <td>쉐라톤 서울 팔래스 강남 호텔</td>\n",
       "      <td>편안 하고 좋았음</td>\n",
       "    </tr>\n",
       "    <tr>\n",
       "      <th>116</th>\n",
       "      <td>에스엘에이 서울 로프트 아파트먼츠</td>\n",
       "      <td>프론크 데스크 직원분들이 상당히 불친절합니다 직원들 눈치보면서 입실하기는 처음이네요...</td>\n",
       "    </tr>\n",
       "  </tbody>\n",
       "</table>\n",
       "<p>117 rows × 2 columns</p>\n",
       "</div>"
      ],
      "text/plain": [
       "                   호텔이름                                                 리뷰\n",
       "0             신라스테이 해운대  아직 갈길이 멀다 카운터 첫인상 별로 뭔가 어수선함 서비스 받는 느낌은 포기해야함 ...\n",
       "1             롯데시티호텔 제주  부모님을 모시고 간 제주도 여행에서 숙박시설은 중요한 부분이였습니다 다만, 일정을 ...\n",
       "2                  왕의지밀  먼지 냄새 가득한 한옥호텔 공사 먼지가 아직 남아 있는 텁텁한 공기가 인상적이었습니...\n",
       "3          데이즈호텔 제주 서귀포  화장실에서 나는 담배 냄새와 알 수 없는 퀴퀴한 냄새가 계속 올라옴 카펫이 매우 더...\n",
       "4              세인트존스 호텔  오션뷰 날씨가 너무 좋았고, 침대도 넓고 편했고, 조용했습니다 아침에 들려오는 파도...\n",
       "..                  ...                                                ...\n",
       "112           르 메르디앙 서울  서비스가 너무 좋고, 럭셔리함이 물씬 묻어나는 호텔입니다 위치적으로도 앞에 편의점도...\n",
       "113        오라카이 송도파크 호텔  깨끗해서 편하게 잘 쉬었어요 침대 메트리스가 너무 출렁거려서 불편했고, 방 바닥 카...\n",
       "114         L7 홍대 바이 롯데  그냥 뭐 홍대에 생겼다길래 궁금해서 와봤는데 그냥 저냥 한 비즈니스 모텔 수준이고 ...\n",
       "115    쉐라톤 서울 팔래스 강남 호텔                                          편안 하고 좋았음\n",
       "116  에스엘에이 서울 로프트 아파트먼츠  프론크 데스크 직원분들이 상당히 불친절합니다 직원들 눈치보면서 입실하기는 처음이네요...\n",
       "\n",
       "[117 rows x 2 columns]"
      ]
     },
     "execution_count": 16,
     "metadata": {},
     "output_type": "execute_result"
    }
   ],
   "source": [
    "final_test"
   ]
  },
  {
   "cell_type": "markdown",
   "metadata": {},
   "source": [
    "# konlpy 로 TDM 만들기"
   ]
  },
  {
   "cell_type": "code",
   "execution_count": 17,
   "metadata": {},
   "outputs": [],
   "source": [
    "from konlpy.tag import Komoran"
   ]
  },
  {
   "cell_type": "code",
   "execution_count": 18,
   "metadata": {},
   "outputs": [],
   "source": [
    "tagger = Komoran()"
   ]
  },
  {
   "cell_type": "code",
   "execution_count": 19,
   "metadata": {},
   "outputs": [],
   "source": [
    "def extract_nouns(text):\n",
    "    nouns = tagger.nouns(text)\n",
    "    values = [noun for noun in nouns if (len(noun)> 1 and noun!='호텔') or noun == '돈' ]\n",
    "    return values"
   ]
  },
  {
   "cell_type": "code",
   "execution_count": 20,
   "metadata": {},
   "outputs": [],
   "source": [
    "from sklearn.feature_extraction.text import CountVectorizer\n",
    "cv = CountVectorizer(max_features=500, tokenizer= extract_nouns)\n",
    "tdm = cv.fit_transform(final_data['리뷰'])"
   ]
  },
  {
   "cell_type": "code",
   "execution_count": 21,
   "metadata": {},
   "outputs": [],
   "source": [
    "tdm_test = cv.transform(final_test['리뷰'])"
   ]
  },
  {
   "cell_type": "code",
   "execution_count": 22,
   "metadata": {},
   "outputs": [],
   "source": [
    "from gensim.matutils import Sparse2Corpus"
   ]
  },
  {
   "cell_type": "code",
   "execution_count": 23,
   "metadata": {},
   "outputs": [],
   "source": [
    "corpus = Sparse2Corpus(tdm.T) \n",
    "id2word = dict(enumerate(cv.get_feature_names()))"
   ]
  },
  {
   "cell_type": "code",
   "execution_count": 24,
   "metadata": {},
   "outputs": [],
   "source": [
    "corpus_test = Sparse2Corpus(tdm_test.T)"
   ]
  },
  {
   "cell_type": "code",
   "execution_count": 25,
   "metadata": {},
   "outputs": [],
   "source": [
    "from gensim.models.ldamodel import LdaModel"
   ]
  },
  {
   "cell_type": "code",
   "execution_count": 26,
   "metadata": {},
   "outputs": [],
   "source": [
    "for num_topics in [3, 4, 5 , 6]:\n",
    "    globals()['models_{}'.format(num_topics)] = LdaModel(\n",
    "        corpus=corpus,\n",
    "        num_topics=num_topics,\n",
    "        passes=3,\n",
    "        iterations=200,\n",
    "        id2word=id2word,\n",
    "        random_state=123)"
   ]
  },
  {
   "cell_type": "code",
   "execution_count": 28,
   "metadata": {
    "scrolled": true
   },
   "outputs": [
    {
     "name": "stdout",
     "output_type": "stream",
     "text": [
      "3 LdaModel(num_terms=500, num_topics=3, decay=0.5, chunksize=2000) 혼란도:  150.8995872044958 응집도:  -2.3700865075146336\n",
      "4 LdaModel(num_terms=500, num_topics=4, decay=0.5, chunksize=2000) 혼란도:  212.2224298376223 응집도:  -2.224970678190461\n",
      "5 LdaModel(num_terms=500, num_topics=5, decay=0.5, chunksize=2000) 혼란도:  304.2731704711428 응집도:  -2.491353151137935\n",
      "6 LdaModel(num_terms=500, num_topics=6, decay=0.5, chunksize=2000) 혼란도:  435.19271782446697 응집도:  -3.0073753605536298\n"
     ]
    }
   ],
   "source": [
    "from gensim.models import CoherenceModel\n",
    "for i in [3, 4 , 5 , 6]:\n",
    "    log_pp = globals()['models_{}'.format(i)].log_perplexity(corpus_test)\n",
    "    coh = CoherenceModel(model=globals()['models_{}'.format(i)], corpus=corpus_test, coherence='u_mass')\n",
    "    print(i, globals()['models_{}'.format(\n",
    "        i)],\"혼란도: \",2 ** (-log_pp),\"응집도: \",coh.get_coherence())"
   ]
  },
  {
   "cell_type": "code",
   "execution_count": 30,
   "metadata": {},
   "outputs": [
    {
     "name": "stdout",
     "output_type": "stream",
     "text": [
      "0\n",
      "******************************\n",
      "('객실', 0.021876246)\n",
      "('직원', 0.021444593)\n",
      "('조식', 0.020877738)\n",
      "('이용', 0.019716593)\n",
      "('불편', 0.017722312)\n",
      "('서비스', 0.016187826)\n",
      "('친절', 0.015432852)\n",
      "('만족', 0.014876312)\n",
      "('시설', 0.014074148)\n",
      "('수영장', 0.012849676)\n",
      "('침대', 0.012305811)\n",
      "('체크인', 0.01205612)\n",
      "('시간', 0.011515108)\n",
      "('예약', 0.010459256)\n",
      "('주변', 0.01042978)\n",
      "\n",
      "******************************\n",
      "1\n",
      "******************************\n",
      "('이용', 0.026590155)\n",
      "('조식', 0.022603415)\n",
      "('친절', 0.021308422)\n",
      "('객실', 0.020184787)\n",
      "('직원', 0.019213274)\n",
      "('위치', 0.019113775)\n",
      "('만족', 0.018431483)\n",
      "('시설', 0.017480072)\n",
      "('불편', 0.015935313)\n",
      "('주변', 0.014006235)\n",
      "('청결', 0.012822192)\n",
      "('가격', 0.012332948)\n",
      "('서비스', 0.011404481)\n",
      "('편리', 0.011287573)\n",
      "('편안', 0.010805037)\n",
      "\n",
      "******************************\n",
      "2\n",
      "******************************\n",
      "('시설', 0.020479478)\n",
      "('객실', 0.020378685)\n",
      "('불편', 0.019337913)\n",
      "('침대', 0.017754141)\n",
      "('직원', 0.016405327)\n",
      "('만족', 0.016257562)\n",
      "('친절', 0.016064364)\n",
      "('화장실', 0.014955933)\n",
      "('주차', 0.014715003)\n",
      "('가격', 0.014282473)\n",
      "('냄새', 0.01391229)\n",
      "('이용', 0.013577841)\n",
      "('청소', 0.0134673)\n",
      "('청결', 0.012975261)\n",
      "('조식', 0.012770911)\n",
      "\n",
      "******************************\n"
     ]
    }
   ],
   "source": [
    "for words in models_3.show_topics(formatted=False,num_words=15, num_topics = 3):\n",
    "    print(words[0])\n",
    "    print(\"******************************\")\n",
    "    for word_prob in words[1]:\n",
    "        print(word_prob)\n",
    "    print(\"\")\n",
    "    print(\"******************************\")"
   ]
  },
  {
   "cell_type": "code",
   "execution_count": 31,
   "metadata": {},
   "outputs": [],
   "source": [
    "topic=[]\n",
    "for i in range(len(corpus)):\n",
    "    doc_topic_dist = models_3.get_document_topics(corpus[i], minimum_probability=0)\n",
    "    sorted_doc_topic = sorted(doc_topic_dist, key=lambda x:x[1], reverse=True)\n",
    "    topic.append(sorted_doc_topic[0][0])"
   ]
  },
  {
   "cell_type": "code",
   "execution_count": 32,
   "metadata": {},
   "outputs": [],
   "source": [
    "final_data2=pd.read_excel('final_data.xlsx',encoding='cp949')"
   ]
  },
  {
   "cell_type": "code",
   "execution_count": 33,
   "metadata": {},
   "outputs": [
    {
     "data": {
      "text/html": [
       "<div>\n",
       "<style scoped>\n",
       "    .dataframe tbody tr th:only-of-type {\n",
       "        vertical-align: middle;\n",
       "    }\n",
       "\n",
       "    .dataframe tbody tr th {\n",
       "        vertical-align: top;\n",
       "    }\n",
       "\n",
       "    .dataframe thead th {\n",
       "        text-align: right;\n",
       "    }\n",
       "</style>\n",
       "<table border=\"1\" class=\"dataframe\">\n",
       "  <thead>\n",
       "    <tr style=\"text-align: right;\">\n",
       "      <th></th>\n",
       "      <th>호텔이름</th>\n",
       "      <th>리뷰</th>\n",
       "      <th>긍정</th>\n",
       "    </tr>\n",
       "  </thead>\n",
       "  <tbody>\n",
       "    <tr>\n",
       "      <th>0</th>\n",
       "      <td>그랜드 머큐어 앰배서더 호텔 앤드 레지던스 서울 용산</td>\n",
       "      <td>만족합니다 서비스 청결 등등 모두 좋았습니다 단지 아쉬운점은 레지던스 호텔이다보니 ...</td>\n",
       "      <td>1</td>\n",
       "    </tr>\n",
       "    <tr>\n",
       "      <th>1</th>\n",
       "      <td>롯데 호텔 서울</td>\n",
       "      <td>로비에서부터 체크아웃 까지 정말 친절한 호텔 특별한 날에 이그제큐티브 룸 이용할 만...</td>\n",
       "      <td>1</td>\n",
       "    </tr>\n",
       "    <tr>\n",
       "      <th>2</th>\n",
       "      <td>남대문 호텔앤스위트</td>\n",
       "      <td>숙소가 상당히 깔끔하고 깨끗해서 좋았습니다 방 시설 좋았고 근처 인프라 좋아요 어매...</td>\n",
       "      <td>1</td>\n",
       "    </tr>\n",
       "    <tr>\n",
       "      <th>3</th>\n",
       "      <td>서울신라호텔</td>\n",
       "      <td>생일이라고 축하도 엄청해주시고  초콜릿도 주셔서 넘 행복한 생일 보낼 수 있었네요 ...</td>\n",
       "      <td>0</td>\n",
       "    </tr>\n",
       "    <tr>\n",
       "      <th>4</th>\n",
       "      <td>인터컨티넨탈 서울 코엑스</td>\n",
       "      <td>다 좋았는데 아침 식사는 갈수록 상태가 않좋아졌어요! 아침숙사는 그리 추천하지 않읍...</td>\n",
       "      <td>0</td>\n",
       "    </tr>\n",
       "    <tr>\n",
       "      <th>...</th>\n",
       "      <td>...</td>\n",
       "      <td>...</td>\n",
       "      <td>...</td>\n",
       "    </tr>\n",
       "    <tr>\n",
       "      <th>291</th>\n",
       "      <td>레드스톤 게스트 하우스</td>\n",
       "      <td>하하 뜻하지않게조카와친구를묶게했는데요 홍대주변에서놀다가들어갈수있는곳을물색하다가 첫째...</td>\n",
       "      <td>1</td>\n",
       "    </tr>\n",
       "    <tr>\n",
       "      <th>292</th>\n",
       "      <td>골드코스트호텔</td>\n",
       "      <td>두번째 갔는데 좋았어요! 욕실도 깔끔하고 침구도 깔끔하고, 방음도 잘되었습니다 무엇...</td>\n",
       "      <td>1</td>\n",
       "    </tr>\n",
       "    <tr>\n",
       "      <th>293</th>\n",
       "      <td>라마다 서울 신도림 호텔</td>\n",
       "      <td>아주 마음에 드는 숙박이었어여^^ 다만 주말에는 웨딩홀땜에 혼잡해서 엘레베이터 타기...</td>\n",
       "      <td>1</td>\n",
       "    </tr>\n",
       "    <tr>\n",
       "      <th>294</th>\n",
       "      <td>킨스 하우스</td>\n",
       "      <td>간단한 취사도 좋고 깨끗함 넘 좋았네요 2박 수건도 여유롭게 아주만족합니다 다만 숙...</td>\n",
       "      <td>0</td>\n",
       "    </tr>\n",
       "    <tr>\n",
       "      <th>295</th>\n",
       "      <td>스타호스텔 동대문 스위트</td>\n",
       "      <td>한번 이용한 후 마음에 들어서 서울갈때마다 빈 방이 있으면 자주 이용합니다 시설 깨...</td>\n",
       "      <td>1</td>\n",
       "    </tr>\n",
       "  </tbody>\n",
       "</table>\n",
       "<p>296 rows × 3 columns</p>\n",
       "</div>"
      ],
      "text/plain": [
       "                              호텔이름  \\\n",
       "0    그랜드 머큐어 앰배서더 호텔 앤드 레지던스 서울 용산   \n",
       "1                         롯데 호텔 서울   \n",
       "2                       남대문 호텔앤스위트   \n",
       "3                           서울신라호텔   \n",
       "4                    인터컨티넨탈 서울 코엑스   \n",
       "..                             ...   \n",
       "291                   레드스톤 게스트 하우스   \n",
       "292                        골드코스트호텔   \n",
       "293                  라마다 서울 신도림 호텔   \n",
       "294                         킨스 하우스   \n",
       "295                  스타호스텔 동대문 스위트   \n",
       "\n",
       "                                                    리뷰  긍정  \n",
       "0    만족합니다 서비스 청결 등등 모두 좋았습니다 단지 아쉬운점은 레지던스 호텔이다보니 ...   1  \n",
       "1    로비에서부터 체크아웃 까지 정말 친절한 호텔 특별한 날에 이그제큐티브 룸 이용할 만...   1  \n",
       "2    숙소가 상당히 깔끔하고 깨끗해서 좋았습니다 방 시설 좋았고 근처 인프라 좋아요 어매...   1  \n",
       "3    생일이라고 축하도 엄청해주시고  초콜릿도 주셔서 넘 행복한 생일 보낼 수 있었네요 ...   0  \n",
       "4    다 좋았는데 아침 식사는 갈수록 상태가 않좋아졌어요! 아침숙사는 그리 추천하지 않읍...   0  \n",
       "..                                                 ...  ..  \n",
       "291  하하 뜻하지않게조카와친구를묶게했는데요 홍대주변에서놀다가들어갈수있는곳을물색하다가 첫째...   1  \n",
       "292  두번째 갔는데 좋았어요! 욕실도 깔끔하고 침구도 깔끔하고, 방음도 잘되었습니다 무엇...   1  \n",
       "293  아주 마음에 드는 숙박이었어여^^ 다만 주말에는 웨딩홀땜에 혼잡해서 엘레베이터 타기...   1  \n",
       "294  간단한 취사도 좋고 깨끗함 넘 좋았네요 2박 수건도 여유롭게 아주만족합니다 다만 숙...   0  \n",
       "295  한번 이용한 후 마음에 들어서 서울갈때마다 빈 방이 있으면 자주 이용합니다 시설 깨...   1  \n",
       "\n",
       "[296 rows x 3 columns]"
      ]
     },
     "execution_count": 33,
     "metadata": {},
     "output_type": "execute_result"
    }
   ],
   "source": [
    "final_data2"
   ]
  },
  {
   "cell_type": "code",
   "execution_count": 34,
   "metadata": {},
   "outputs": [],
   "source": [
    "final_data['부정']=topic"
   ]
  },
  {
   "cell_type": "code",
   "execution_count": 35,
   "metadata": {},
   "outputs": [],
   "source": [
    "merge_pos_neg=pd.merge(final_data2,final_data,on='호텔이름',how='inner')\n",
    "del merge_pos_neg['리뷰_y']\n",
    "merge_pos_neg.columns=['호텔이름','리뷰','긍정','부정']"
   ]
  },
  {
   "cell_type": "code",
   "execution_count": 36,
   "metadata": {},
   "outputs": [
    {
     "data": {
      "text/plain": [
       "2    113\n",
       "1     95\n",
       "0     68\n",
       "Name: 부정, dtype: int64"
      ]
     },
     "execution_count": 36,
     "metadata": {},
     "output_type": "execute_result"
    }
   ],
   "source": [
    "merge_pos_neg['부정'].value_counts()"
   ]
  },
  {
   "cell_type": "code",
   "execution_count": 37,
   "metadata": {},
   "outputs": [
    {
     "data": {
      "text/html": [
       "<div>\n",
       "<style scoped>\n",
       "    .dataframe tbody tr th:only-of-type {\n",
       "        vertical-align: middle;\n",
       "    }\n",
       "\n",
       "    .dataframe tbody tr th {\n",
       "        vertical-align: top;\n",
       "    }\n",
       "\n",
       "    .dataframe thead th {\n",
       "        text-align: right;\n",
       "    }\n",
       "</style>\n",
       "<table border=\"1\" class=\"dataframe\">\n",
       "  <thead>\n",
       "    <tr style=\"text-align: right;\">\n",
       "      <th></th>\n",
       "      <th>호텔이름</th>\n",
       "      <th>리뷰</th>\n",
       "      <th>긍정</th>\n",
       "      <th>부정</th>\n",
       "    </tr>\n",
       "  </thead>\n",
       "  <tbody>\n",
       "    <tr>\n",
       "      <th>0</th>\n",
       "      <td>그랜드 머큐어 앰배서더 호텔 앤드 레지던스 서울 용산</td>\n",
       "      <td>만족합니다 서비스 청결 등등 모두 좋았습니다 단지 아쉬운점은 레지던스 호텔이다보니 ...</td>\n",
       "      <td>1</td>\n",
       "      <td>0</td>\n",
       "    </tr>\n",
       "    <tr>\n",
       "      <th>1</th>\n",
       "      <td>롯데 호텔 서울</td>\n",
       "      <td>로비에서부터 체크아웃 까지 정말 친절한 호텔 특별한 날에 이그제큐티브 룸 이용할 만...</td>\n",
       "      <td>1</td>\n",
       "      <td>1</td>\n",
       "    </tr>\n",
       "    <tr>\n",
       "      <th>2</th>\n",
       "      <td>남대문 호텔앤스위트</td>\n",
       "      <td>숙소가 상당히 깔끔하고 깨끗해서 좋았습니다 방 시설 좋았고 근처 인프라 좋아요 어매...</td>\n",
       "      <td>1</td>\n",
       "      <td>1</td>\n",
       "    </tr>\n",
       "    <tr>\n",
       "      <th>3</th>\n",
       "      <td>서울신라호텔</td>\n",
       "      <td>생일이라고 축하도 엄청해주시고  초콜릿도 주셔서 넘 행복한 생일 보낼 수 있었네요 ...</td>\n",
       "      <td>0</td>\n",
       "      <td>0</td>\n",
       "    </tr>\n",
       "    <tr>\n",
       "      <th>4</th>\n",
       "      <td>인터컨티넨탈 서울 코엑스</td>\n",
       "      <td>다 좋았는데 아침 식사는 갈수록 상태가 않좋아졌어요! 아침숙사는 그리 추천하지 않읍...</td>\n",
       "      <td>0</td>\n",
       "      <td>0</td>\n",
       "    </tr>\n",
       "    <tr>\n",
       "      <th>...</th>\n",
       "      <td>...</td>\n",
       "      <td>...</td>\n",
       "      <td>...</td>\n",
       "      <td>...</td>\n",
       "    </tr>\n",
       "    <tr>\n",
       "      <th>271</th>\n",
       "      <td>레드스톤 게스트 하우스</td>\n",
       "      <td>하하 뜻하지않게조카와친구를묶게했는데요 홍대주변에서놀다가들어갈수있는곳을물색하다가 첫째...</td>\n",
       "      <td>1</td>\n",
       "      <td>2</td>\n",
       "    </tr>\n",
       "    <tr>\n",
       "      <th>272</th>\n",
       "      <td>골드코스트호텔</td>\n",
       "      <td>두번째 갔는데 좋았어요! 욕실도 깔끔하고 침구도 깔끔하고, 방음도 잘되었습니다 무엇...</td>\n",
       "      <td>1</td>\n",
       "      <td>0</td>\n",
       "    </tr>\n",
       "    <tr>\n",
       "      <th>273</th>\n",
       "      <td>라마다 서울 신도림 호텔</td>\n",
       "      <td>아주 마음에 드는 숙박이었어여^^ 다만 주말에는 웨딩홀땜에 혼잡해서 엘레베이터 타기...</td>\n",
       "      <td>1</td>\n",
       "      <td>0</td>\n",
       "    </tr>\n",
       "    <tr>\n",
       "      <th>274</th>\n",
       "      <td>킨스 하우스</td>\n",
       "      <td>간단한 취사도 좋고 깨끗함 넘 좋았네요 2박 수건도 여유롭게 아주만족합니다 다만 숙...</td>\n",
       "      <td>0</td>\n",
       "      <td>1</td>\n",
       "    </tr>\n",
       "    <tr>\n",
       "      <th>275</th>\n",
       "      <td>스타호스텔 동대문 스위트</td>\n",
       "      <td>한번 이용한 후 마음에 들어서 서울갈때마다 빈 방이 있으면 자주 이용합니다 시설 깨...</td>\n",
       "      <td>1</td>\n",
       "      <td>2</td>\n",
       "    </tr>\n",
       "  </tbody>\n",
       "</table>\n",
       "<p>276 rows × 4 columns</p>\n",
       "</div>"
      ],
      "text/plain": [
       "                              호텔이름  \\\n",
       "0    그랜드 머큐어 앰배서더 호텔 앤드 레지던스 서울 용산   \n",
       "1                         롯데 호텔 서울   \n",
       "2                       남대문 호텔앤스위트   \n",
       "3                           서울신라호텔   \n",
       "4                    인터컨티넨탈 서울 코엑스   \n",
       "..                             ...   \n",
       "271                   레드스톤 게스트 하우스   \n",
       "272                        골드코스트호텔   \n",
       "273                  라마다 서울 신도림 호텔   \n",
       "274                         킨스 하우스   \n",
       "275                  스타호스텔 동대문 스위트   \n",
       "\n",
       "                                                    리뷰  긍정  부정  \n",
       "0    만족합니다 서비스 청결 등등 모두 좋았습니다 단지 아쉬운점은 레지던스 호텔이다보니 ...   1   0  \n",
       "1    로비에서부터 체크아웃 까지 정말 친절한 호텔 특별한 날에 이그제큐티브 룸 이용할 만...   1   1  \n",
       "2    숙소가 상당히 깔끔하고 깨끗해서 좋았습니다 방 시설 좋았고 근처 인프라 좋아요 어매...   1   1  \n",
       "3    생일이라고 축하도 엄청해주시고  초콜릿도 주셔서 넘 행복한 생일 보낼 수 있었네요 ...   0   0  \n",
       "4    다 좋았는데 아침 식사는 갈수록 상태가 않좋아졌어요! 아침숙사는 그리 추천하지 않읍...   0   0  \n",
       "..                                                 ...  ..  ..  \n",
       "271  하하 뜻하지않게조카와친구를묶게했는데요 홍대주변에서놀다가들어갈수있는곳을물색하다가 첫째...   1   2  \n",
       "272  두번째 갔는데 좋았어요! 욕실도 깔끔하고 침구도 깔끔하고, 방음도 잘되었습니다 무엇...   1   0  \n",
       "273  아주 마음에 드는 숙박이었어여^^ 다만 주말에는 웨딩홀땜에 혼잡해서 엘레베이터 타기...   1   0  \n",
       "274  간단한 취사도 좋고 깨끗함 넘 좋았네요 2박 수건도 여유롭게 아주만족합니다 다만 숙...   0   1  \n",
       "275  한번 이용한 후 마음에 들어서 서울갈때마다 빈 방이 있으면 자주 이용합니다 시설 깨...   1   2  \n",
       "\n",
       "[276 rows x 4 columns]"
      ]
     },
     "execution_count": 37,
     "metadata": {},
     "output_type": "execute_result"
    }
   ],
   "source": [
    "merge_pos_neg"
   ]
  },
  {
   "cell_type": "code",
   "execution_count": 80,
   "metadata": {},
   "outputs": [],
   "source": [
    "merge_pos_neg.to_excel('merge_pos_neg.xlsx',encoding='cp949',index=False)"
   ]
  }
 ],
 "metadata": {
  "kernelspec": {
   "display_name": "Python 3",
   "language": "python",
   "name": "python3"
  },
  "language_info": {
   "codemirror_mode": {
    "name": "ipython",
    "version": 3
   },
   "file_extension": ".py",
   "mimetype": "text/x-python",
   "name": "python",
   "nbconvert_exporter": "python",
   "pygments_lexer": "ipython3",
   "version": "3.7.6"
  }
 },
 "nbformat": 4,
 "nbformat_minor": 4
}
