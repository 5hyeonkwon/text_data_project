{
 "cells": [
  {
   "cell_type": "markdown",
   "metadata": {},
   "source": [
    "# 리뷰 크롤링 - 호텔스닷컴\n",
    "- 호텔에 대한 리뷰를 크롤링하려고 하였다. 호텔스닷컴 사이트는 페이지별로 호텔에 대한 정보가 존재하는것이 아닌 사이트의 휠을 내릴경우 호텔이 추가 된다. 즉 css_selector로 호텔의 정보를 추출하려고 하였지만 6개의 호텔 정보만 존재한다. <br> \n",
    "그래서 selenium을 이용하여 자동으로 마우스 휠을 내려 호텔의 정보를 업데이트 하는 방식으로 진행하였다\n",
    "- 다음으로 호텔의 정보가 url로 연결되어 있으며 리뷰들은 팝업의 형태로 나타내 이를 자동으로 크롤링하기 위해 다음과 같이 진행하였다."
   ]
  },
  {
   "cell_type": "code",
   "execution_count": 1,
   "metadata": {},
   "outputs": [],
   "source": [
    "import requests\n",
    "import lxml.html\n",
    "from selenium.webdriver import Chrome\n",
    "import pandas as pd"
   ]
  },
  {
   "cell_type": "code",
   "execution_count": 132,
   "metadata": {},
   "outputs": [],
   "source": [
    "browser = Chrome()"
   ]
  },
  {
   "cell_type": "code",
   "execution_count": 3,
   "metadata": {},
   "outputs": [],
   "source": [
    "url = 'https://kr.hotels.com/search/search.html?resolved-location=CITY%3A759818%3AUNKNOWN%3AUNKNOWN&f-star-rating=5,4,3&destination-id=759818&q-destination=%EC%84%9C%EC%9A%B8,%20%ED%95%9C%EA%B5%AD&q-check-in=2020-05-13&q-check-out=2020-05-14&q-rooms=1&q-room-0-adults=2&q-room-0-children=0&sort-order=STAR_RATING_HIGHEST_FIRST'"
   ]
  },
  {
   "cell_type": "code",
   "execution_count": 64,
   "metadata": {},
   "outputs": [
    {
     "data": {
      "text/plain": [
       "<Response [200]>"
      ]
     },
     "execution_count": 64,
     "metadata": {},
     "output_type": "execute_result"
    }
   ],
   "source": [
    "requests.get(url)"
   ]
  },
  {
   "cell_type": "code",
   "execution_count": 133,
   "metadata": {},
   "outputs": [],
   "source": [
    "browser.get(url)"
   ]
  },
  {
   "cell_type": "code",
   "execution_count": 134,
   "metadata": {},
   "outputs": [],
   "source": [
    "import time  # 모든 호텔을 browser에 띄우기 위함\n",
    "SCROLL_PAUSE_TIME = 5\n",
    "\n",
    "\n",
    "last_height = browser.execute_script(\"return document.body.scrollHeight-1000\")         \n",
    "\n",
    "while True:\n",
    "                                                     \n",
    "    browser.execute_script(\"window.scrollTo(0, document.body.scrollHeight-1000);\")\n",
    "\n",
    "\n",
    "    time.sleep(SCROLL_PAUSE_TIME)                                                \n",
    "    browser.execute_script(\"window.scrollTo(0, document.body.scrollHeight-1000);\")  \n",
    "    time.sleep(SCROLL_PAUSE_TIME)\n",
    "\n",
    "           \n",
    "    new_height = browser.execute_script(\"return document.body.scrollHeight\")\n",
    "\n",
    "    if new_height == last_height:                                               \n",
    "        break\n",
    "\n",
    "    last_height = new_height\n"
   ]
  },
  {
   "cell_type": "code",
   "execution_count": 151,
   "metadata": {},
   "outputs": [],
   "source": [
    "hotel_reviews = []\n",
    "hotels = browser.find_elements_by_css_selector('a.property-name-link')"
   ]
  },
  {
   "cell_type": "code",
   "execution_count": 152,
   "metadata": {
    "scrolled": true
   },
   "outputs": [
    {
     "name": "stderr",
     "output_type": "stream",
     "text": [
      "C:\\Users\\dhgus\\Anaconda3\\lib\\site-packages\\ipykernel_launcher.py:6: DeprecationWarning: use driver.switch_to.window instead\n",
      "  \n",
      "C:\\Users\\dhgus\\Anaconda3\\lib\\site-packages\\ipykernel_launcher.py:29: DeprecationWarning: use driver.switch_to.window instead\n",
      "C:\\Users\\dhgus\\Anaconda3\\lib\\site-packages\\ipykernel_launcher.py:15: DeprecationWarning: use driver.switch_to.window instead\n",
      "  from ipykernel import kernelapp as app\n"
     ]
    }
   ],
   "source": [
    "#호텔 사이트\n",
    "for i in range(len(hotels)) :\n",
    "    time.sleep(1)\n",
    "    hotels[i].click()\n",
    "    time.sleep(2)\n",
    "    browser.switch_to_window(browser.window_handles[1])   # 새로운 탭으로 이동 \n",
    "    time.sleep(1)\n",
    "    hotel_name = browser.find_element_by_tag_name('h1').text\n",
    "    time.sleep(2)\n",
    "    try :\n",
    "        browser.find_elements_by_css_selector('a.total-reviews')[0].click() # 리뷰 이동\n",
    "        time.sleep(1)\n",
    "    except : \n",
    "        browser.close()\n",
    "        browser.switch_to_window(browser.window_handles[0])\n",
    "        continue\n",
    "        \n",
    "        \n",
    "    while 1:\n",
    "        try :\n",
    "            reviews = browser.find_elements_by_css_selector('div.brand-reviews-listing>div.review-card>blockquote')\n",
    "            ratings = browser.find_elements_by_css_selector('div.brand-reviews-listing>div.review-card> div.card-header>span.rating >span.rating-score')\n",
    "            for j in range(len(reviews)) :\n",
    "                review = reviews[j].text\n",
    "                rating = ratings[j].text\n",
    "                hotel_reviews.append([hotel_name,review,rating])\n",
    "            browser.find_element_by_css_selector('div.pagination > div > a.cta.cta-secondary.cta-next').click()         # 다음페이지 \n",
    "            time.sleep(3)\n",
    "        except :\n",
    "            browser.close()\n",
    "            break\n",
    "    browser.switch_to_window(browser.window_handles[0])\n",
    "\n"
   ]
  },
  {
   "cell_type": "code",
   "execution_count": 153,
   "metadata": {},
   "outputs": [],
   "source": [
    "result = pd.DataFrame(hotel_reviews, columns = ['호텔이름','리뷰', '평점'])"
   ]
  },
  {
   "cell_type": "code",
   "execution_count": 154,
   "metadata": {},
   "outputs": [],
   "source": [
    "result.to_excel('crawl.xlsx', encoding = 'utf-8',index = False) \n",
    "# 일본어 중국어 영어가 섞여서 utf-8로 encoding 하였다 ."
   ]
  }
 ],
 "metadata": {
  "kernelspec": {
   "display_name": "Python 3",
   "language": "python",
   "name": "python3"
  },
  "language_info": {
   "codemirror_mode": {
    "name": "ipython",
    "version": 3
   },
   "file_extension": ".py",
   "mimetype": "text/x-python",
   "name": "python",
   "nbconvert_exporter": "python",
   "pygments_lexer": "ipython3",
   "version": "3.8.6"
  }
 },
 "nbformat": 4,
 "nbformat_minor": 4
}
