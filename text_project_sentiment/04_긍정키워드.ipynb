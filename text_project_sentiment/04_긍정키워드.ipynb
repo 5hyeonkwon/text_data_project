{
 "cells": [
  {
   "cell_type": "markdown",
   "metadata": {},
   "source": [
    "# 긍정 리뷰를 이용하여 긍정 키워드 추출\n",
    "- 앞선 과정을 통해 긍정 리뷰와 부정 리뷰로 나누었고 konlpy를 이용하여 단어문서행렬을 만든 후 LDA를 이용하여 주제분석을 하여 키워드를 추출할 것이다.\n",
    "- Stanza와 Konlpy 의 결과를 비교하였더니 Stanza의 경우 리뷰에 특수문자를 같이 포함시키고. 띄어쓰기가 되어 있지 않을 경우 전체를 명사로 뽑는 단점이 있다. Konlpy의 경우 리뷰의 품사 추출을 잘 하지만, 너무 세세하게 추출한다. 따라서 konlpy 를 이용하여 단어문서행렬을 만든 후 LDA를 통해 주제분석을 진행할 것이다.\n",
    "- 우리의 목표는 호텔별 키워드 추출이다. 즉 호텔(=문서)의 해석을 위해 LDA를 이용하였다."
   ]
  },
  {
   "cell_type": "code",
   "execution_count": 1,
   "metadata": {},
   "outputs": [],
   "source": [
    "import pandas as pd"
   ]
  },
  {
   "cell_type": "code",
   "execution_count": 2,
   "metadata": {},
   "outputs": [],
   "source": [
    "import numpy as np"
   ]
  },
  {
   "cell_type": "code",
   "execution_count": 3,
   "metadata": {},
   "outputs": [],
   "source": [
    "data=pd.read_excel('X_train.xlsx',encoding='cp949')"
   ]
  },
  {
   "cell_type": "code",
   "execution_count": 4,
   "metadata": {},
   "outputs": [],
   "source": [
    "test=pd.read_excel('X_test.xlsx',encoding='cp949')"
   ]
  },
  {
   "cell_type": "markdown",
   "metadata": {},
   "source": [
    "### 데이터셋 구축"
   ]
  },
  {
   "cell_type": "code",
   "execution_count": 5,
   "metadata": {},
   "outputs": [],
   "source": [
    "data=data.query(\"평점==1\")"
   ]
  },
  {
   "cell_type": "code",
   "execution_count": 6,
   "metadata": {},
   "outputs": [],
   "source": [
    "test=test.query(\"평점==1\")\n",
    "test=test.reset_index(drop=True)"
   ]
  },
  {
   "cell_type": "code",
   "execution_count": 7,
   "metadata": {},
   "outputs": [],
   "source": [
    "data=data.reset_index(drop=True)"
   ]
  },
  {
   "cell_type": "code",
   "execution_count": 8,
   "metadata": {},
   "outputs": [
    {
     "data": {
      "text/plain": [
       "296"
      ]
     },
     "execution_count": 8,
     "metadata": {},
     "output_type": "execute_result"
    }
   ],
   "source": [
    "data['호텔이름'].nunique()"
   ]
  },
  {
   "cell_type": "code",
   "execution_count": 9,
   "metadata": {},
   "outputs": [],
   "source": [
    "data_dict=dict()\n",
    "for i in range(len(data)):\n",
    "    if data['호텔이름'][i] not in data_dict.keys():\n",
    "        data_dict[data['호텔이름'][i]]=data['리뷰'][i]\n",
    "    else:\n",
    "        data_dict[data['호텔이름'][i]]=data_dict[data['호텔이름'][i]]+' '+ data['리뷰'][i]"
   ]
  },
  {
   "cell_type": "code",
   "execution_count": 10,
   "metadata": {},
   "outputs": [],
   "source": [
    "test_dict=dict()\n",
    "for i in range(len(test)):\n",
    "    if test['호텔이름'][i] not in test_dict.keys():\n",
    "        test_dict[test['호텔이름'][i]]=test['리뷰'][i]\n",
    "    else:\n",
    "        test_dict[test['호텔이름'][i]]=test_dict[test['호텔이름'][i]]+' '+ test['리뷰'][i]"
   ]
  },
  {
   "cell_type": "code",
   "execution_count": 11,
   "metadata": {},
   "outputs": [],
   "source": [
    "a=pd.DataFrame.from_dict([data_dict])\n",
    "final_data=pd.melt(a,var_name='호텔이름', value_name='리뷰')"
   ]
  },
  {
   "cell_type": "code",
   "execution_count": 12,
   "metadata": {},
   "outputs": [],
   "source": [
    "b=pd.DataFrame.from_dict([test_dict])\n",
    "final_test=pd.melt(b,var_name='호텔이름', value_name='리뷰')"
   ]
  },
  {
   "cell_type": "code",
   "execution_count": 13,
   "metadata": {},
   "outputs": [
    {
     "data": {
      "text/plain": [
       "296"
      ]
     },
     "execution_count": 13,
     "metadata": {},
     "output_type": "execute_result"
    }
   ],
   "source": [
    "len(final_data['호텔이름'].unique())"
   ]
  },
  {
   "cell_type": "code",
   "execution_count": 14,
   "metadata": {},
   "outputs": [
    {
     "data": {
      "text/html": [
       "<div>\n",
       "<style scoped>\n",
       "    .dataframe tbody tr th:only-of-type {\n",
       "        vertical-align: middle;\n",
       "    }\n",
       "\n",
       "    .dataframe tbody tr th {\n",
       "        vertical-align: top;\n",
       "    }\n",
       "\n",
       "    .dataframe thead th {\n",
       "        text-align: right;\n",
       "    }\n",
       "</style>\n",
       "<table border=\"1\" class=\"dataframe\">\n",
       "  <thead>\n",
       "    <tr style=\"text-align: right;\">\n",
       "      <th></th>\n",
       "      <th>호텔이름</th>\n",
       "      <th>리뷰</th>\n",
       "    </tr>\n",
       "  </thead>\n",
       "  <tbody>\n",
       "    <tr>\n",
       "      <th>0</th>\n",
       "      <td>플레이스 캠프 제주</td>\n",
       "      <td>생각보다 홍보하는 것처럼 신나지는 않은 것 같습니다저희가 밤 10시쯤 도착한 것도있...</td>\n",
       "    </tr>\n",
       "    <tr>\n",
       "      <th>1</th>\n",
       "      <td>메리어트 이그제큐티브 아파트먼트 서울</td>\n",
       "      <td>직원분들이 매우 친절하여 들어갈때부터 기분 좋았으며 시설도 주방 포함된 레지던스 타...</td>\n",
       "    </tr>\n",
       "    <tr>\n",
       "      <th>2</th>\n",
       "      <td>오션팰리스 호텔</td>\n",
       "      <td>서귀포 시내에 있어서 이동이 좋았고 로비에 있는 편의점이 24시간이라서 이용하기 편...</td>\n",
       "    </tr>\n",
       "    <tr>\n",
       "      <th>3</th>\n",
       "      <td>신라스테이 서대문</td>\n",
       "      <td>가격대비 정말 훌륭한 호텔이었어요 전반적으로 깔끔하고 친절하고 좋았음 객실 화장실 ...</td>\n",
       "    </tr>\n",
       "    <tr>\n",
       "      <th>4</th>\n",
       "      <td>신라스테이 제주</td>\n",
       "      <td>깨끗하고 청결합니다 주차도 편하게 되어있어요 위치가 좋은 전망을 기대하긴 어렵지만,...</td>\n",
       "    </tr>\n",
       "    <tr>\n",
       "      <th>...</th>\n",
       "      <td>...</td>\n",
       "      <td>...</td>\n",
       "    </tr>\n",
       "    <tr>\n",
       "      <th>172</th>\n",
       "      <td>노보텔 앰배서더 서울 동대문 호텔 &amp; 레지던스</td>\n",
       "      <td>태풍 링링의 영향으로 호텔 체크인전 일정이 모두 취소됬는데, 직원분들이 친절하게 안...</td>\n",
       "    </tr>\n",
       "    <tr>\n",
       "      <th>173</th>\n",
       "      <td>골드원 호텔 &amp; 스위트</td>\n",
       "      <td>전망이 너무 좋고 매트리스도 편안하네요 서귀포 혁신도시에 일이 있어 와이프랑 가끔 ...</td>\n",
       "    </tr>\n",
       "    <tr>\n",
       "      <th>174</th>\n",
       "      <td>라마다 군산호텔</td>\n",
       "      <td>새 건물이었고 객실 관리도 잘 되어 있고 조식도 좋았어요 새 건물이었고 객실 관리도...</td>\n",
       "    </tr>\n",
       "    <tr>\n",
       "      <th>175</th>\n",
       "      <td>하워드 존슨 호텔 인천 에어포트</td>\n",
       "      <td>인천공항 근처의 스톱오버 전용 호텔인듯 많은 항공사 직원의 숙소임 2개의 호텔이 연...</td>\n",
       "    </tr>\n",
       "    <tr>\n",
       "      <th>176</th>\n",
       "      <td>로얄 엠포리움 인천공항 호텔</td>\n",
       "      <td>호텔은 깨끗한편이며 건물자체의 주차장은 작으나 건물뒤에 넓은 주차장이 있슴 가격은 ...</td>\n",
       "    </tr>\n",
       "  </tbody>\n",
       "</table>\n",
       "<p>177 rows × 2 columns</p>\n",
       "</div>"
      ],
      "text/plain": [
       "                          호텔이름  \\\n",
       "0                   플레이스 캠프 제주   \n",
       "1         메리어트 이그제큐티브 아파트먼트 서울   \n",
       "2                     오션팰리스 호텔   \n",
       "3                    신라스테이 서대문   \n",
       "4                     신라스테이 제주   \n",
       "..                         ...   \n",
       "172  노보텔 앰배서더 서울 동대문 호텔 & 레지던스   \n",
       "173               골드원 호텔 & 스위트   \n",
       "174                   라마다 군산호텔   \n",
       "175          하워드 존슨 호텔 인천 에어포트   \n",
       "176            로얄 엠포리움 인천공항 호텔   \n",
       "\n",
       "                                                    리뷰  \n",
       "0    생각보다 홍보하는 것처럼 신나지는 않은 것 같습니다저희가 밤 10시쯤 도착한 것도있...  \n",
       "1    직원분들이 매우 친절하여 들어갈때부터 기분 좋았으며 시설도 주방 포함된 레지던스 타...  \n",
       "2    서귀포 시내에 있어서 이동이 좋았고 로비에 있는 편의점이 24시간이라서 이용하기 편...  \n",
       "3    가격대비 정말 훌륭한 호텔이었어요 전반적으로 깔끔하고 친절하고 좋았음 객실 화장실 ...  \n",
       "4    깨끗하고 청결합니다 주차도 편하게 되어있어요 위치가 좋은 전망을 기대하긴 어렵지만,...  \n",
       "..                                                 ...  \n",
       "172  태풍 링링의 영향으로 호텔 체크인전 일정이 모두 취소됬는데, 직원분들이 친절하게 안...  \n",
       "173  전망이 너무 좋고 매트리스도 편안하네요 서귀포 혁신도시에 일이 있어 와이프랑 가끔 ...  \n",
       "174  새 건물이었고 객실 관리도 잘 되어 있고 조식도 좋았어요 새 건물이었고 객실 관리도...  \n",
       "175  인천공항 근처의 스톱오버 전용 호텔인듯 많은 항공사 직원의 숙소임 2개의 호텔이 연...  \n",
       "176  호텔은 깨끗한편이며 건물자체의 주차장은 작으나 건물뒤에 넓은 주차장이 있슴 가격은 ...  \n",
       "\n",
       "[177 rows x 2 columns]"
      ]
     },
     "execution_count": 14,
     "metadata": {},
     "output_type": "execute_result"
    }
   ],
   "source": [
    "final_test"
   ]
  },
  {
   "cell_type": "markdown",
   "metadata": {},
   "source": [
    "# Konlpy 로 TDM 만들기"
   ]
  },
  {
   "cell_type": "code",
   "execution_count": 48,
   "metadata": {},
   "outputs": [],
   "source": [
    "from konlpy.tag import Komoran"
   ]
  },
  {
   "cell_type": "code",
   "execution_count": 49,
   "metadata": {},
   "outputs": [],
   "source": [
    "tagger = Komoran()"
   ]
  },
  {
   "cell_type": "code",
   "execution_count": 60,
   "metadata": {},
   "outputs": [],
   "source": [
    "def extract_nouns(text):\n",
    "    nouns = tagger.nouns(text)\n",
    "    values = [noun for noun in nouns if (len(noun)> 1 and noun!='호텔') or noun == '돈' ]\n",
    "    return values"
   ]
  },
  {
   "cell_type": "code",
   "execution_count": 61,
   "metadata": {},
   "outputs": [],
   "source": [
    "from sklearn.feature_extraction.text import CountVectorizer\n",
    "cv = CountVectorizer(max_features=500, tokenizer= extract_nouns)\n",
    "tdm = cv.fit_transform(final_data['리뷰'])"
   ]
  },
  {
   "cell_type": "code",
   "execution_count": 62,
   "metadata": {},
   "outputs": [],
   "source": [
    "tdm_test = cv.transform(final_test['리뷰'])"
   ]
  },
  {
   "cell_type": "code",
   "execution_count": 63,
   "metadata": {},
   "outputs": [],
   "source": [
    "from gensim.matutils import Sparse2Corpus"
   ]
  },
  {
   "cell_type": "code",
   "execution_count": 64,
   "metadata": {},
   "outputs": [],
   "source": [
    "corpus = Sparse2Corpus(tdm.T) \n",
    "id2word = dict(enumerate(cv.get_feature_names()))"
   ]
  },
  {
   "cell_type": "code",
   "execution_count": 65,
   "metadata": {},
   "outputs": [],
   "source": [
    "corpus_test = Sparse2Corpus(tdm_test.T)"
   ]
  },
  {
   "cell_type": "markdown",
   "metadata": {},
   "source": [
    "## LDA "
   ]
  },
  {
   "cell_type": "markdown",
   "metadata": {},
   "source": [
    "- SVD"
   ]
  },
  {
   "cell_type": "code",
   "execution_count": null,
   "metadata": {},
   "outputs": [],
   "source": []
  },
  {
   "cell_type": "code",
   "execution_count": 66,
   "metadata": {},
   "outputs": [],
   "source": [
    "from gensim.models.ldamodel import LdaModel"
   ]
  },
  {
   "cell_type": "code",
   "execution_count": 67,
   "metadata": {},
   "outputs": [
    {
     "name": "stderr",
     "output_type": "stream",
     "text": [
      "2020-05-13 05:35:14 WARNING: too few updates, training might not converge; consider increasing the number of passes or iterations to improve accuracy\n",
      "2020-05-13 05:35:19 WARNING: too few updates, training might not converge; consider increasing the number of passes or iterations to improve accuracy\n",
      "2020-05-13 05:35:25 WARNING: too few updates, training might not converge; consider increasing the number of passes or iterations to improve accuracy\n",
      "2020-05-13 05:35:31 WARNING: too few updates, training might not converge; consider increasing the number of passes or iterations to improve accuracy\n"
     ]
    }
   ],
   "source": [
    "for num_topics in [3, 4, 5 , 6]:\n",
    "    globals()['models_{}'.format(num_topics)] = LdaModel(\n",
    "        corpus=corpus,\n",
    "        num_topics=num_topics,\n",
    "        passes=3,\n",
    "        iterations=200,\n",
    "        id2word=id2word,\n",
    "        random_state=123)"
   ]
  },
  {
   "cell_type": "code",
   "execution_count": 136,
   "metadata": {
    "scrolled": false
   },
   "outputs": [
    {
     "name": "stdout",
     "output_type": "stream",
     "text": [
      "3 LdaModel(num_terms=500, num_topics=3, decay=0.5, chunksize=2000) 혼란도:  57.07194844862846 응집도:  -1.5649170137948964\n",
      "4 LdaModel(num_terms=500, num_topics=4, decay=0.5, chunksize=2000) 혼란도:  61.81236189804071 응집도:  -1.450837971076801\n",
      "5 LdaModel(num_terms=500, num_topics=5, decay=0.5, chunksize=2000) 혼란도:  66.68232230815467 응집도:  -1.9924325493503325\n",
      "6 LdaModel(num_terms=500, num_topics=6, decay=0.5, chunksize=2000) 혼란도:  69.57850858812479 응집도:  -2.1145905789456534\n"
     ]
    }
   ],
   "source": [
    "for i in [3, 4 , 5 , 6]:\n",
    "    log_pp = globals()['models_%s'%().format(i)].log_perplexity(corpus_test)\n",
    "    coh = CoherenceModel(model=globals()['models_{}'.format(i)], corpus=corpus_test, coherence='u_mass')\n",
    "    print(i, globals()['models_{}'.format(\n",
    "        i)],\"혼란도: \",2 ** (-log_pp),\"응집도: \",coh.get_coherence())"
   ]
  },
  {
   "cell_type": "markdown",
   "metadata": {},
   "source": [
    "#### 3 topics Model Selection"
   ]
  },
  {
   "cell_type": "code",
   "execution_count": 70,
   "metadata": {
    "scrolled": true
   },
   "outputs": [
    {
     "name": "stdout",
     "output_type": "stream",
     "text": [
      "0\n",
      "******************************\n",
      "('만족', 0.029515484)\n",
      "('친절', 0.026728919)\n",
      "('직원', 0.026120877)\n",
      "('위치', 0.025307467)\n",
      "('조식', 0.023444502)\n",
      "('이용', 0.020618234)\n",
      "('시설', 0.02002133)\n",
      "('서비스', 0.017228976)\n",
      "('가격', 0.014832828)\n",
      "('청결', 0.014066408)\n",
      "('주변', 0.013461048)\n",
      "('객실', 0.013273926)\n",
      "('전반', 0.012455535)\n",
      "('숙박', 0.011655783)\n",
      "('침대', 0.011285818)\n",
      "\n",
      "******************************\n",
      "1\n",
      "******************************\n",
      "('친절', 0.035501566)\n",
      "('만족', 0.031197352)\n",
      "('직원', 0.025026128)\n",
      "('이용', 0.024646811)\n",
      "('위치', 0.019380936)\n",
      "('시설', 0.017302286)\n",
      "('객실', 0.017273618)\n",
      "('조식', 0.015989324)\n",
      "('주변', 0.015096155)\n",
      "('가격', 0.014758016)\n",
      "('서비스', 0.013397333)\n",
      "('수영장', 0.013336449)\n",
      "('숙박', 0.012581023)\n",
      "('편안', 0.011819507)\n",
      "('생각', 0.011243197)\n",
      "\n",
      "******************************\n",
      "2\n",
      "******************************\n",
      "('위치', 0.032459177)\n",
      "('서울역', 0.022413796)\n",
      "('가격', 0.020543767)\n",
      "('화장실', 0.019217247)\n",
      "('객실', 0.018114377)\n",
      "('시설', 0.01762525)\n",
      "('만족', 0.014166781)\n",
      "('친절', 0.013512537)\n",
      "('침대', 0.013306671)\n",
      "('이용', 0.012798624)\n",
      "('대비', 0.012537808)\n",
      "('생각', 0.012531613)\n",
      "('주변', 0.011917566)\n",
      "('냄새', 0.011615603)\n",
      "('정도', 0.011326301)\n",
      "\n",
      "******************************\n"
     ]
    }
   ],
   "source": [
    "for words in models_3.show_topics(formatted=False,num_words=15, num_topics = 3):\n",
    "    print(words[0])\n",
    "    print(\"******************************\")\n",
    "    for word_prob in words[1]:\n",
    "        print(word_prob)\n",
    "    print(\"\")\n",
    "    print(\"******************************\")"
   ]
  },
  {
   "cell_type": "markdown",
   "metadata": {},
   "source": [
    "### 테스트 데이터에 적용"
   ]
  },
  {
   "cell_type": "code",
   "execution_count": 71,
   "metadata": {},
   "outputs": [],
   "source": [
    "topic=[]\n",
    "for i in range(len(corpus)):\n",
    "    doc_topic_dist = models_3.get_document_topics(corpus[i], minimum_probability=0)\n",
    "    sorted_doc_topic = sorted(doc_topic_dist, key=lambda x:x[1], reverse=True)\n",
    "    topic.append(sorted_doc_topic[0][0])"
   ]
  },
  {
   "cell_type": "code",
   "execution_count": 72,
   "metadata": {},
   "outputs": [],
   "source": [
    "final_data['긍정']=topic"
   ]
  },
  {
   "cell_type": "code",
   "execution_count": 73,
   "metadata": {},
   "outputs": [
    {
     "data": {
      "text/plain": [
       "0    156\n",
       "1    115\n",
       "2     25\n",
       "Name: 긍정, dtype: int64"
      ]
     },
     "execution_count": 73,
     "metadata": {},
     "output_type": "execute_result"
    }
   ],
   "source": [
    "final_data['긍정'].value_counts()"
   ]
  },
  {
   "cell_type": "code",
   "execution_count": 74,
   "metadata": {},
   "outputs": [],
   "source": [
    "final_data.to_excel('final_data.xlsx',encoding='cp949',index=False)"
   ]
  }
 ],
 "metadata": {
  "kernelspec": {
   "display_name": "Python 3",
   "language": "python",
   "name": "python3"
  },
  "language_info": {
   "codemirror_mode": {
    "name": "ipython",
    "version": 3
   },
   "file_extension": ".py",
   "mimetype": "text/x-python",
   "name": "python",
   "nbconvert_exporter": "python",
   "pygments_lexer": "ipython3",
   "version": "3.7.6"
  }
 },
 "nbformat": 4,
 "nbformat_minor": 4
}
