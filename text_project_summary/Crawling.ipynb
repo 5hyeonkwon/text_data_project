{
 "cells": [
  {
   "cell_type": "markdown",
   "metadata": {},
   "source": [
    "## Crawling"
   ]
  },
  {
   "cell_type": "code",
   "execution_count": 1,
   "metadata": {},
   "outputs": [],
   "source": [
    "import requests\n",
    "import lxml.html\n",
    "from selenium.webdriver import Chrome\n",
    "import pandas as pd\n",
    "import numpy as np"
   ]
  },
  {
   "cell_type": "code",
   "execution_count": 2,
   "metadata": {},
   "outputs": [],
   "source": [
    "import re"
   ]
  },
  {
   "cell_type": "code",
   "execution_count": 3,
   "metadata": {},
   "outputs": [],
   "source": [
    "def clean_text(text) : \n",
    "    return re.sub(r'[^ㄱ-ㅎ|가-힣|0-9|a-zA-Z]', '', text)"
   ]
  },
  {
   "cell_type": "code",
   "execution_count": 4,
   "metadata": {},
   "outputs": [],
   "source": [
    "import time\n",
    "from datetime import date, timedelta"
   ]
  },
  {
   "cell_type": "code",
   "execution_count": 5,
   "metadata": {},
   "outputs": [],
   "source": [
    "def decrease_date(news_date) :\n",
    "    t = time.strptime(news_date, '%Y%m%d')\n",
    "    newdate = date(t.tm_year, t.tm_mon, t.tm_mday) -timedelta(1)\n",
    "    return newdate.strftime('%Y%m%d')\n",
    "    "
   ]
  },
  {
   "cell_type": "code",
   "execution_count": 2,
   "metadata": {},
   "outputs": [],
   "source": [
    "main = \"https://news.naver.com/main/ranking/popularDay.nhn?rankingType=popular_day&sectionId={}&date={}\"\n",
    "sectionId = [101,102,103,104,105]\n",
    "current_date = '20200501'\n",
    "\n",
    "data = []\n",
    "for i in range(100) :\n",
    "    for j in sectionId :\n",
    "        res = requests.get(main.format(j,current_date))\n",
    "        root = lxml.html.fromstring(res.text)\n",
    "        urls = root.cssselect('ol.ranking_list li div > a')\n",
    "        for url in urls[:20] :\n",
    "            res_1 = requests.get('http://news.naver.com' + url.attrib['href'])\n",
    "            root_1 = lxml.html.fromstring(res_1.text)\n",
    "            body = root_1.cssselect('div#articleBodyContents')\n",
    "            try : \n",
    "                content = body[0].text_content()\n",
    "                content = clean_text(content)\n",
    "                data.append((current_date, content, j))\n",
    "            except :\n",
    "                continue\n",
    "    current_date = decrease_date(current_date)\n",
    "            "
   ]
  },
  {
   "cell_type": "code",
   "execution_count": 41,
   "metadata": {},
   "outputs": [],
   "source": [
    "df = pd.DataFrame(data, columns=['date', 'contents','section'])"
   ]
  },
  {
   "cell_type": "code",
   "execution_count": 42,
   "metadata": {},
   "outputs": [],
   "source": [
    "df.to_csv('news.csv', index = False, encoding = 'cp949')"
   ]
  },
  {
   "cell_type": "code",
   "execution_count": 6,
   "metadata": {},
   "outputs": [],
   "source": [
    "df = pd.read_csv('news.csv', encoding = 'cp949')"
   ]
  },
  {
   "cell_type": "code",
   "execution_count": 7,
   "metadata": {},
   "outputs": [
    {
     "data": {
      "text/html": [
       "<div>\n",
       "<style scoped>\n",
       "    .dataframe tbody tr th:only-of-type {\n",
       "        vertical-align: middle;\n",
       "    }\n",
       "\n",
       "    .dataframe tbody tr th {\n",
       "        vertical-align: top;\n",
       "    }\n",
       "\n",
       "    .dataframe thead th {\n",
       "        text-align: right;\n",
       "    }\n",
       "</style>\n",
       "<table border=\"1\" class=\"dataframe\">\n",
       "  <thead>\n",
       "    <tr style=\"text-align: right;\">\n",
       "      <th></th>\n",
       "      <th>date</th>\n",
       "      <th>contents</th>\n",
       "      <th>section</th>\n",
       "    </tr>\n",
       "  </thead>\n",
       "  <tbody>\n",
       "    <tr>\n",
       "      <th>0</th>\n",
       "      <td>20200501</td>\n",
       "      <td>동영상 뉴스                  오류를 우회하기 위한 ...</td>\n",
       "      <td>101</td>\n",
       "    </tr>\n",
       "    <tr>\n",
       "      <th>1</th>\n",
       "      <td>20200501</td>\n",
       "      <td>동영상 뉴스                  오류를 우회하기 위한 ...</td>\n",
       "      <td>101</td>\n",
       "    </tr>\n",
       "    <tr>\n",
       "      <th>2</th>\n",
       "      <td>20200501</td>\n",
       "      <td>오류를 우회하기 위한 함수 추가            ...</td>\n",
       "      <td>101</td>\n",
       "    </tr>\n",
       "    <tr>\n",
       "      <th>3</th>\n",
       "      <td>20200501</td>\n",
       "      <td>오류를 우회하기 위한 함수 추가            ...</td>\n",
       "      <td>101</td>\n",
       "    </tr>\n",
       "    <tr>\n",
       "      <th>4</th>\n",
       "      <td>20200501</td>\n",
       "      <td>오류를 우회하기 위한 함수 추가            ...</td>\n",
       "      <td>101</td>\n",
       "    </tr>\n",
       "  </tbody>\n",
       "</table>\n",
       "</div>"
      ],
      "text/plain": [
       "       date                                           contents  section\n",
       "0  20200501            동영상 뉴스                  오류를 우회하기 위한 ...      101\n",
       "1  20200501            동영상 뉴스                  오류를 우회하기 위한 ...      101\n",
       "2  20200501                   오류를 우회하기 위한 함수 추가            ...      101\n",
       "3  20200501                   오류를 우회하기 위한 함수 추가            ...      101\n",
       "4  20200501                   오류를 우회하기 위한 함수 추가            ...      101"
      ]
     },
     "execution_count": 7,
     "metadata": {},
     "output_type": "execute_result"
    }
   ],
   "source": [
    "df.head()"
   ]
  },
  {
   "cell_type": "code",
   "execution_count": 8,
   "metadata": {},
   "outputs": [],
   "source": [
    "def remove(x):\n",
    "    x = re.sub(r'\\s+',' ', x)\n",
    "    first = x.find('추가')\n",
    "    last = x.find('기자')\n",
    "    return x[first+2: last-4]"
   ]
  },
  {
   "cell_type": "code",
   "execution_count": 9,
   "metadata": {},
   "outputs": [],
   "source": [
    "df.contents = df.contents.apply(remove)"
   ]
  },
  {
   "cell_type": "code",
   "execution_count": 10,
   "metadata": {},
   "outputs": [
    {
     "data": {
      "text/html": [
       "<div>\n",
       "<style scoped>\n",
       "    .dataframe tbody tr th:only-of-type {\n",
       "        vertical-align: middle;\n",
       "    }\n",
       "\n",
       "    .dataframe tbody tr th {\n",
       "        vertical-align: top;\n",
       "    }\n",
       "\n",
       "    .dataframe thead th {\n",
       "        text-align: right;\n",
       "    }\n",
       "</style>\n",
       "<table border=\"1\" class=\"dataframe\">\n",
       "  <thead>\n",
       "    <tr style=\"text-align: right;\">\n",
       "      <th></th>\n",
       "      <th>date</th>\n",
       "      <th>contents</th>\n",
       "      <th>section</th>\n",
       "    </tr>\n",
       "  </thead>\n",
       "  <tbody>\n",
       "    <tr>\n",
       "      <th>0</th>\n",
       "      <td>20200501</td>\n",
       "      <td>앵커 오는 13일부터 전 국민에게 긴급 재난지원금을 나눠준다는데 이게 그냥 가만히...</td>\n",
       "      <td>101</td>\n",
       "    </tr>\n",
       "    <tr>\n",
       "      <th>1</th>\n",
       "      <td>20200501</td>\n",
       "      <td>앵커 오는 13일부터 전 국민에게 긴급 재난지원금을 나눠준다는데 이게 그냥 가만히...</td>\n",
       "      <td>101</td>\n",
       "    </tr>\n",
       "    <tr>\n",
       "      <th>2</th>\n",
       "      <td>20200501</td>\n",
       "      <td>미국 유명 래퍼 트래비스 스콧이 지난 24일 연 콘서트에 1230만 명이 몰렸다 ...</td>\n",
       "      <td>101</td>\n",
       "    </tr>\n",
       "    <tr>\n",
       "      <th>3</th>\n",
       "      <td>20200501</td>\n",
       "      <td>미국 유명 래퍼 트래비스 스콧이 지난 24일 연 콘서트에 1230만 명이 몰렸다 ...</td>\n",
       "      <td>101</td>\n",
       "    </tr>\n",
       "    <tr>\n",
       "      <th>4</th>\n",
       "      <td>20200501</td>\n",
       "      <td>근로장려세제처럼 환급형 세액공제로 해야 면세자는 기부해도 15 못 돌려받아저소득층...</td>\n",
       "      <td>101</td>\n",
       "    </tr>\n",
       "  </tbody>\n",
       "</table>\n",
       "</div>"
      ],
      "text/plain": [
       "       date                                           contents  section\n",
       "0  20200501   앵커 오는 13일부터 전 국민에게 긴급 재난지원금을 나눠준다는데 이게 그냥 가만히...      101\n",
       "1  20200501   앵커 오는 13일부터 전 국민에게 긴급 재난지원금을 나눠준다는데 이게 그냥 가만히...      101\n",
       "2  20200501   미국 유명 래퍼 트래비스 스콧이 지난 24일 연 콘서트에 1230만 명이 몰렸다 ...      101\n",
       "3  20200501   미국 유명 래퍼 트래비스 스콧이 지난 24일 연 콘서트에 1230만 명이 몰렸다 ...      101\n",
       "4  20200501   근로장려세제처럼 환급형 세액공제로 해야 면세자는 기부해도 15 못 돌려받아저소득층...      101"
      ]
     },
     "execution_count": 10,
     "metadata": {},
     "output_type": "execute_result"
    }
   ],
   "source": [
    "df.head()"
   ]
  },
  {
   "cell_type": "code",
   "execution_count": 11,
   "metadata": {},
   "outputs": [],
   "source": [
    "df.drop_duplicates(subset=['contents'], inplace=True)"
   ]
  },
  {
   "cell_type": "code",
   "execution_count": 12,
   "metadata": {},
   "outputs": [
    {
     "data": {
      "text/html": [
       "<div>\n",
       "<style scoped>\n",
       "    .dataframe tbody tr th:only-of-type {\n",
       "        vertical-align: middle;\n",
       "    }\n",
       "\n",
       "    .dataframe tbody tr th {\n",
       "        vertical-align: top;\n",
       "    }\n",
       "\n",
       "    .dataframe thead th {\n",
       "        text-align: right;\n",
       "    }\n",
       "</style>\n",
       "<table border=\"1\" class=\"dataframe\">\n",
       "  <thead>\n",
       "    <tr style=\"text-align: right;\">\n",
       "      <th></th>\n",
       "      <th>date</th>\n",
       "      <th>contents</th>\n",
       "      <th>section</th>\n",
       "    </tr>\n",
       "  </thead>\n",
       "  <tbody>\n",
       "    <tr>\n",
       "      <th>0</th>\n",
       "      <td>20200501</td>\n",
       "      <td>앵커 오는 13일부터 전 국민에게 긴급 재난지원금을 나눠준다는데 이게 그냥 가만히...</td>\n",
       "      <td>101</td>\n",
       "    </tr>\n",
       "    <tr>\n",
       "      <th>2</th>\n",
       "      <td>20200501</td>\n",
       "      <td>미국 유명 래퍼 트래비스 스콧이 지난 24일 연 콘서트에 1230만 명이 몰렸다 ...</td>\n",
       "      <td>101</td>\n",
       "    </tr>\n",
       "    <tr>\n",
       "      <th>4</th>\n",
       "      <td>20200501</td>\n",
       "      <td>근로장려세제처럼 환급형 세액공제로 해야 면세자는 기부해도 15 못 돌려받아저소득층...</td>\n",
       "      <td>101</td>\n",
       "    </tr>\n",
       "    <tr>\n",
       "      <th>5</th>\n",
       "      <td>20200501</td>\n",
       "      <td>코로나19 항체검사 시행 시 숨겨진 감염자 확인 가능 국내도 코로나19 감염 모른...</td>\n",
       "      <td>101</td>\n",
       "    </tr>\n",
       "    <tr>\n",
       "      <th>7</th>\n",
       "      <td>20200501</td>\n",
       "      <td>머니투데이</td>\n",
       "      <td>101</td>\n",
       "    </tr>\n",
       "  </tbody>\n",
       "</table>\n",
       "</div>"
      ],
      "text/plain": [
       "       date                                           contents  section\n",
       "0  20200501   앵커 오는 13일부터 전 국민에게 긴급 재난지원금을 나눠준다는데 이게 그냥 가만히...      101\n",
       "2  20200501   미국 유명 래퍼 트래비스 스콧이 지난 24일 연 콘서트에 1230만 명이 몰렸다 ...      101\n",
       "4  20200501   근로장려세제처럼 환급형 세액공제로 해야 면세자는 기부해도 15 못 돌려받아저소득층...      101\n",
       "5  20200501   코로나19 항체검사 시행 시 숨겨진 감염자 확인 가능 국내도 코로나19 감염 모른...      101\n",
       "7  20200501                                             머니투데이       101"
      ]
     },
     "execution_count": 12,
     "metadata": {},
     "output_type": "execute_result"
    }
   ],
   "source": [
    "df.head()"
   ]
  },
  {
   "cell_type": "code",
   "execution_count": 13,
   "metadata": {},
   "outputs": [],
   "source": [
    "df['contents'] = df['contents'].str.replace(\"[^ㄱ-ㅎㅏ-ㅣ가-힣|a-zA-Z]\",\" \")"
   ]
  },
  {
   "cell_type": "code",
   "execution_count": 14,
   "metadata": {
    "scrolled": true
   },
   "outputs": [
    {
     "data": {
      "text/html": [
       "<div>\n",
       "<style scoped>\n",
       "    .dataframe tbody tr th:only-of-type {\n",
       "        vertical-align: middle;\n",
       "    }\n",
       "\n",
       "    .dataframe tbody tr th {\n",
       "        vertical-align: top;\n",
       "    }\n",
       "\n",
       "    .dataframe thead th {\n",
       "        text-align: right;\n",
       "    }\n",
       "</style>\n",
       "<table border=\"1\" class=\"dataframe\">\n",
       "  <thead>\n",
       "    <tr style=\"text-align: right;\">\n",
       "      <th></th>\n",
       "      <th>date</th>\n",
       "      <th>contents</th>\n",
       "      <th>section</th>\n",
       "    </tr>\n",
       "  </thead>\n",
       "  <tbody>\n",
       "    <tr>\n",
       "      <th>0</th>\n",
       "      <td>20200501</td>\n",
       "      <td>앵커 오는   일부터 전 국민에게 긴급 재난지원금을 나눠준다는데 이게 그냥 가만히...</td>\n",
       "      <td>101</td>\n",
       "    </tr>\n",
       "    <tr>\n",
       "      <th>2</th>\n",
       "      <td>20200501</td>\n",
       "      <td>미국 유명 래퍼 트래비스 스콧이 지난   일 연 콘서트에     만 명이 몰렸다 ...</td>\n",
       "      <td>101</td>\n",
       "    </tr>\n",
       "    <tr>\n",
       "      <th>4</th>\n",
       "      <td>20200501</td>\n",
       "      <td>근로장려세제처럼 환급형 세액공제로 해야 면세자는 기부해도    못 돌려받아저소득층...</td>\n",
       "      <td>101</td>\n",
       "    </tr>\n",
       "    <tr>\n",
       "      <th>5</th>\n",
       "      <td>20200501</td>\n",
       "      <td>코로나   항체검사 시행 시 숨겨진 감염자 확인 가능 국내도 코로나   감염 모른...</td>\n",
       "      <td>101</td>\n",
       "    </tr>\n",
       "    <tr>\n",
       "      <th>7</th>\n",
       "      <td>20200501</td>\n",
       "      <td>머니투데이</td>\n",
       "      <td>101</td>\n",
       "    </tr>\n",
       "  </tbody>\n",
       "</table>\n",
       "</div>"
      ],
      "text/plain": [
       "       date                                           contents  section\n",
       "0  20200501   앵커 오는   일부터 전 국민에게 긴급 재난지원금을 나눠준다는데 이게 그냥 가만히...      101\n",
       "2  20200501   미국 유명 래퍼 트래비스 스콧이 지난   일 연 콘서트에     만 명이 몰렸다 ...      101\n",
       "4  20200501   근로장려세제처럼 환급형 세액공제로 해야 면세자는 기부해도    못 돌려받아저소득층...      101\n",
       "5  20200501   코로나   항체검사 시행 시 숨겨진 감염자 확인 가능 국내도 코로나   감염 모른...      101\n",
       "7  20200501                                             머니투데이       101"
      ]
     },
     "execution_count": 14,
     "metadata": {},
     "output_type": "execute_result"
    }
   ],
   "source": [
    "df.head()"
   ]
  },
  {
   "cell_type": "code",
   "execution_count": 15,
   "metadata": {},
   "outputs": [
    {
     "name": "stdout",
     "output_type": "stream",
     "text": [
      "date        0\n",
      "contents    1\n",
      "section     0\n",
      "dtype: int64\n"
     ]
    }
   ],
   "source": [
    "df['contents'].replace('', np.nan, inplace=True)\n",
    "print(df.isnull().sum())"
   ]
  },
  {
   "cell_type": "code",
   "execution_count": 16,
   "metadata": {},
   "outputs": [
    {
     "data": {
      "text/html": [
       "<div>\n",
       "<style scoped>\n",
       "    .dataframe tbody tr th:only-of-type {\n",
       "        vertical-align: middle;\n",
       "    }\n",
       "\n",
       "    .dataframe tbody tr th {\n",
       "        vertical-align: top;\n",
       "    }\n",
       "\n",
       "    .dataframe thead th {\n",
       "        text-align: right;\n",
       "    }\n",
       "</style>\n",
       "<table border=\"1\" class=\"dataframe\">\n",
       "  <thead>\n",
       "    <tr style=\"text-align: right;\">\n",
       "      <th></th>\n",
       "      <th>date</th>\n",
       "      <th>contents</th>\n",
       "      <th>section</th>\n",
       "    </tr>\n",
       "  </thead>\n",
       "  <tbody>\n",
       "    <tr>\n",
       "      <th>828</th>\n",
       "      <td>20200423</td>\n",
       "      <td>NaN</td>\n",
       "      <td>102</td>\n",
       "    </tr>\n",
       "  </tbody>\n",
       "</table>\n",
       "</div>"
      ],
      "text/plain": [
       "         date contents  section\n",
       "828  20200423      NaN      102"
      ]
     },
     "execution_count": 16,
     "metadata": {},
     "output_type": "execute_result"
    }
   ],
   "source": [
    "df.loc[df.contents.isnull()]"
   ]
  },
  {
   "cell_type": "code",
   "execution_count": 17,
   "metadata": {},
   "outputs": [],
   "source": [
    "df = df.dropna(how = 'any')"
   ]
  },
  {
   "cell_type": "code",
   "execution_count": 18,
   "metadata": {},
   "outputs": [
    {
     "data": {
      "text/html": [
       "<div>\n",
       "<style scoped>\n",
       "    .dataframe tbody tr th:only-of-type {\n",
       "        vertical-align: middle;\n",
       "    }\n",
       "\n",
       "    .dataframe tbody tr th {\n",
       "        vertical-align: top;\n",
       "    }\n",
       "\n",
       "    .dataframe thead th {\n",
       "        text-align: right;\n",
       "    }\n",
       "</style>\n",
       "<table border=\"1\" class=\"dataframe\">\n",
       "  <thead>\n",
       "    <tr style=\"text-align: right;\">\n",
       "      <th></th>\n",
       "      <th>date</th>\n",
       "      <th>contents</th>\n",
       "      <th>section</th>\n",
       "    </tr>\n",
       "  </thead>\n",
       "  <tbody>\n",
       "  </tbody>\n",
       "</table>\n",
       "</div>"
      ],
      "text/plain": [
       "Empty DataFrame\n",
       "Columns: [date, contents, section]\n",
       "Index: []"
      ]
     },
     "execution_count": 18,
     "metadata": {},
     "output_type": "execute_result"
    }
   ],
   "source": [
    "df.loc[df.contents.isnull()]"
   ]
  },
  {
   "cell_type": "code",
   "execution_count": 19,
   "metadata": {},
   "outputs": [],
   "source": [
    "df.to_csv('news_data.csv', index = False, encoding = 'cp949')"
   ]
  }
 ],
 "metadata": {
  "kernelspec": {
   "display_name": "Python 3",
   "language": "python",
   "name": "python3"
  },
  "language_info": {
   "codemirror_mode": {
    "name": "ipython",
    "version": 3
   },
   "file_extension": ".py",
   "mimetype": "text/x-python",
   "name": "python",
   "nbconvert_exporter": "python",
   "pygments_lexer": "ipython3",
   "version": "3.8.8"
  }
 },
 "nbformat": 4,
 "nbformat_minor": 4
}
